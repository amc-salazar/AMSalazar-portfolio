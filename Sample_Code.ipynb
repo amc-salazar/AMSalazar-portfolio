{
  "nbformat": 4,
  "nbformat_minor": 0,
  "metadata": {
    "colab": {
      "provenance": [],
      "authorship_tag": "ABX9TyMa8hly62zVvLZheq2kG5t+",
      "include_colab_link": true
    },
    "kernelspec": {
      "name": "python3",
      "display_name": "Python 3"
    },
    "language_info": {
      "name": "python"
    }
  },
  "cells": [
    {
      "cell_type": "markdown",
      "metadata": {
        "id": "view-in-github",
        "colab_type": "text"
      },
      "source": [
        "<a href=\"https://colab.research.google.com/github/amc-salazar/AMSalazar-portfolio/blob/main/Sample_Code.ipynb\" target=\"_parent\"><img src=\"https://colab.research.google.com/assets/colab-badge.svg\" alt=\"Open In Colab\"/></a>"
      ]
    },
    {
      "cell_type": "markdown",
      "source": [
        "# Getting started with Python"
      ],
      "metadata": {
        "id": "VmaT39oirX0B"
      }
    },
    {
      "cell_type": "markdown",
      "source": [
        "##What is Python?\n",
        "- is an interpreted, object-oriented, high-level programming language with dynamic semantics. It highly built in data structures.\n",
        "- It is easy to learn the syntax.\n",
        "- It supports modules and packages"
      ],
      "metadata": {
        "id": "OH2AV-yIrZ5Y"
      }
    },
    {
      "cell_type": "markdown",
      "source": [
        "###Variable\n",
        "- is created the moment you first assign a value to it.\n",
        "- it can be presented or declared either by using single or double qoutes\n",
        "- Variable names are case sensitive\n"
      ],
      "metadata": {
        "id": "KdR3icO1rb26"
      }
    },
    {
      "cell_type": "code",
      "execution_count": null,
      "metadata": {
        "id": "LvcIvcWSrUn5"
      },
      "outputs": [],
      "source": [
        "# Assigning a variable\n",
        "x = \"Hello, World\"\n",
        "y = 5\n",
        "\n",
        "print(x,y)"
      ]
    },
    {
      "cell_type": "code",
      "source": [
        "x = 'hello World'\n",
        "x = \"My name is Ayks\"\n",
        "print(x)"
      ],
      "metadata": {
        "id": "hFHKdWUorjrK"
      },
      "execution_count": null,
      "outputs": []
    }
  ]
}